{
 "cells": [
  {
   "cell_type": "code",
   "execution_count": 1,
   "metadata": {},
   "outputs": [
    {
     "name": "stdout",
     "output_type": "stream",
     "text": [
      "config is i5 16\n",
      "config is ryzen 16\n"
     ]
    }
   ],
   "source": [
    "class computer:\n",
    "    def __init__(self,cpu,ram):\n",
    "        self.cpu=cpu\n",
    "        self.ram=ram\n",
    "        \n",
    "    def config(self):\n",
    "        print(\"config is\",self.cpu,self.ram)#self must use while calling object\n",
    "comp1=computer(\"i5\",16)\n",
    "comp2=computer(\"ryzen\",16)\n",
    "\n",
    "comp1.config()\n",
    "comp2.config()"
   ]
  },
  {
   "cell_type": "code",
   "execution_count": 1,
   "metadata": {},
   "outputs": [
    {
     "name": "stdout",
     "output_type": "stream",
     "text": [
      "they are same\n"
     ]
    }
   ],
   "source": [
    "class people:#class\n",
    "    #class variable\n",
    "    def __init__(self):#constructor\n",
    "        self.age=\"20\"#instance variable\n",
    "\n",
    "        \n",
    "    def compare(self,other):#compare(p1,p2)\n",
    "        if self.age==other.age:#age verfication from ouside class\n",
    "            return True\n",
    "        else:\n",
    "            return False\n",
    "        \n",
    "\n",
    "p1=people()#calling class\n",
    "p1.age=30#value insertion\n",
    "p2=people()\n",
    "p2.age=30\n",
    "\n",
    "if p1.compare(p2):#works like compare(p1,p2)\n",
    "    print(\"they are same\")\n",
    "else:\n",
    "    print(\"they are different\")\n"
   ]
  },
  {
   "cell_type": "code",
   "execution_count": 36,
   "metadata": {},
   "outputs": [
    {
     "name": "stdout",
     "output_type": "stream",
     "text": [
      "BMW 11 5\n",
      "BMW 10 5\n"
     ]
    }
   ],
   "source": [
    "class car:\n",
    "    wheels=4#class variable also callled as static variables\n",
    "    \n",
    "    def __init__(self):\n",
    "        self.com=\"BMW\"#instance variable\n",
    "        self.mil=10\n",
    "        \n",
    "c1=car()\n",
    "c2=car()\n",
    "\n",
    "c1.mil=11#value assign\n",
    "car.wheels=5\n",
    "\n",
    "\n",
    "print(c1.com,c1.mil,c1.wheels)\n",
    "print(c2.com,c2.mil,c2.wheels)"
   ]
  },
  {
   "cell_type": "code",
   "execution_count": 11,
   "metadata": {},
   "outputs": [
    {
     "name": "stdout",
     "output_type": "stream",
     "text": [
      "SRM\n",
      "13.333333333333334\n",
      "30.0\n",
      "i am just a static method\n",
      "None\n"
     ]
    }
   ],
   "source": [
    "#*********IMP***********#\n",
    "\n",
    "class student:\n",
    "    school=\"SRM\"#class variable or static variable\n",
    "    \n",
    "    def __init__(self,m1,m2,m3):#constructor\n",
    "        self.m1=m1#instance variables\n",
    "        self.m2=m2\n",
    "        self.m3=m3\n",
    "    \n",
    "    def average(self):#instance method  functions are called as methods\n",
    "        avg=(self.m1+self.m2+self.m3)/3\n",
    "        return avg\n",
    "    \n",
    "    @staticmethod#staticmethod\n",
    "    def info():#static method\n",
    "        p=print(\"i am just a static method\")\n",
    "        return\n",
    "    \n",
    "    @classmethod#class method directly can be called \n",
    "    def getschoolname(cls):#class method access to class level variables\n",
    "        return(cls.school)\n",
    "        \n",
    "s1=student(20,30,40)#object creation\n",
    "s2=student(20,10,10)\n",
    "\n",
    "print(student.getschoolname())#directly can be called using class method\n",
    "print(s2.average())\n",
    "print(s1.average())\n",
    "print(s1.info())"
   ]
  },
  {
   "cell_type": "code",
   "execution_count": 7,
   "metadata": {},
   "outputs": [
    {
     "name": "stdout",
     "output_type": "stream",
     "text": [
      "vasu 14\n",
      "HP 8\n",
      "naveen 18\n",
      "HP 8\n"
     ]
    }
   ],
   "source": [
    "#*******INNER CLASS**********\n",
    "\n",
    "class student:\n",
    "    def __init__(self,name,rollno):\n",
    "        self.name=name\n",
    "        self.rollno=rollno\n",
    "        self.lap=self.laptop()#instance variable needto create to access inner class\n",
    "        \n",
    "    def show(self):#function need to create and access inner class\n",
    "        print(self.name,self.rollno)\n",
    "        self.lap.show()#accessing inner class using function\n",
    "        \n",
    "    class laptop:#inner class\n",
    "        \n",
    "        def __init__(self):\n",
    "            self.brand=\"HP\"\n",
    "            self.ram=\"8\"\n",
    "        \n",
    "        def show(self):\n",
    "            print(self.brand,self.ram)\n",
    "        \n",
    "        \n",
    "\n",
    "s1=student(\"vasu\",14)\n",
    "s2=student(\"naveen\",18)\n",
    "s1.show()\n",
    "s2.show()    \n",
    "# lap1=s1.laptop()\n",
    "# lap2=s2.laptop()\n",
    "# lap1.show()\n",
    "# lap2.show()\n"
   ]
  },
  {
   "cell_type": "code",
   "execution_count": 24,
   "metadata": {},
   "outputs": [
    {
     "name": "stdout",
     "output_type": "stream",
     "text": [
      "feature 1 is working\n",
      "feature 2 is working\n",
      "feature 2 is working\n",
      "feature 1 is working\n"
     ]
    }
   ],
   "source": [
    "#***********IMP********* single level #inheritance\n",
    "#accessing parent methods or functions using child class\n",
    "class A:\n",
    "    def feature1(self):\n",
    "        print(\"feature 1 is working\")\n",
    "    def feature2(self):\n",
    "        print(\"feature 2 is working\")\n",
    "    \n",
    "class B(A):\n",
    "    def feature3(self):\n",
    "        print(\"feature 3 is working\")\n",
    "    def feature4(self):\n",
    "        print(\"feature 4 is working\")\n",
    "\n",
    "class C(B):\n",
    "    def feature5(self):\n",
    "        print(\"feature 5 is working\")\n",
    "   \n",
    "a=A()\n",
    "\n",
    "a.feature1()\n",
    "a.feature2()\n",
    "b=B()\n",
    "b.feature2()\n",
    "c=C()\n",
    "c.feature1()  "
   ]
  },
  {
   "cell_type": "code",
   "execution_count": 25,
   "metadata": {},
   "outputs": [
    {
     "name": "stdout",
     "output_type": "stream",
     "text": [
      "feature 1 is working\n",
      "feature 2 is working\n",
      "feature 1 is working\n",
      "feature 3 is working\n"
     ]
    }
   ],
   "source": [
    "#******multiple level inheritance\n",
    "class A:\n",
    "    def feature1(self):\n",
    "        print(\"feature 1 is working\")\n",
    "    def feature2(self):\n",
    "        print(\"feature 2 is working\")\n",
    "    \n",
    "class B:\n",
    "    def feature3(self):\n",
    "        print(\"feature 3 is working\")\n",
    "    def feature4(self):\n",
    "        print(\"feature 4 is working\")\n",
    "\n",
    "class C(A,B):\n",
    "    def feature5(self):\n",
    "        print(\"feature 5 is working\")\n",
    "    \n",
    "a=A()\n",
    "a.feature1()\n",
    "a.feature2()\n",
    "\n",
    "c=C()\n",
    "c.feature1()\n",
    "c.feature3()\n",
    "  "
   ]
  },
  {
   "cell_type": "code",
   "execution_count": 16,
   "metadata": {},
   "outputs": [
    {
     "name": "stdout",
     "output_type": "stream",
     "text": [
      "init of class A\n",
      "init of class B\n",
      "feature 1 is working\n"
     ]
    }
   ],
   "source": [
    "#*******constructor in inheritance\n",
    "\n",
    "class A:\n",
    "    def __init__(self):\n",
    "        print(\"init of class A\")\n",
    "    def feature1(self):\n",
    "        print(\"feature 1 is working\")\n",
    "    def feature2(self):\n",
    "        print(\"feature 2 is working\")\n",
    "    \n",
    "class B(A):\n",
    "    def __init__(self):#higher importtance to the child construct **if no constructor in this it will take from parent\n",
    "        super().__init__()\n",
    "        print(\"init of class B\")\n",
    "        \n",
    "    def feature3(self):\n",
    "        print(\"feature 3 is working\")\n",
    "    def feature4(self):\n",
    "        print(\"feature 4 is working\")\n",
    "\n",
    "b=B()\n",
    "b.feature1()"
   ]
  },
  {
   "cell_type": "code",
   "execution_count": 25,
   "metadata": {},
   "outputs": [
    {
     "name": "stdout",
     "output_type": "stream",
     "text": [
      "init of class A\n",
      "init of class C\n",
      "init of class A\n",
      "feature 5 is working\n"
     ]
    }
   ],
   "source": [
    "\n",
    "class A:\n",
    "    def __init__(self):\n",
    "        print(\"init of class A\")\n",
    "    def feature1(self):\n",
    "        print(\"feature 1-A is working\")\n",
    "    def feature2(self):\n",
    "        print(\"feature 2 is working\")\n",
    "    \n",
    "class B:\n",
    "    def __init__(self):\n",
    "        print(\"init of class B\")\n",
    "        \n",
    "    def feature3(self):\n",
    "        print(\"feature 1-B is working\")\n",
    "    def feature4(self):\n",
    "        print(\"feature 4 is working\")\n",
    "    \n",
    "class C(A,B):\n",
    "    def __init__(self):\n",
    "        super().__init__()#1st\n",
    "        print(\"init of class C\")#2nd\n",
    "        \n",
    "        \n",
    "    def feature5(self):\n",
    "        super().__init__()#3rd\n",
    "        print(\"feature 5 is working\")\n",
    "  \n",
    "\n",
    "c=C()\n",
    "c.feature5()\n"
   ]
  },
  {
   "cell_type": "code",
   "execution_count": 26,
   "metadata": {},
   "outputs": [
    {
     "name": "stdout",
     "output_type": "stream",
     "text": [
      "init of class A\n",
      "init of class B\n",
      "init of class A\n",
      "init of class C\n",
      "feature 3 is working\n",
      "feature 5 is working\n"
     ]
    }
   ],
   "source": [
    "class A:\n",
    "    def __init__(self):\n",
    "        print(\"init of class A\")\n",
    "    def feature1(self):\n",
    "        print(\"feature 1 is working\")\n",
    "    def feature2(self):\n",
    "        print(\"feature 2 is working\")\n",
    "    \n",
    "class B:\n",
    "    def __init__(self):\n",
    "        print(\"init of class B\")\n",
    "    def feature3(self):\n",
    "        print(\"feature 3 is working\")\n",
    "    def feature4(self):\n",
    "        print(\"feature 4 is working\")\n",
    "    \n",
    "class C(A,B):#as it is inherited it prints constr\n",
    "    def __init__(self):\n",
    "        super().__init__()#prints first of c constructor inherited \n",
    "        print(\"init of class C\")\n",
    "        \n",
    "    def feature5(self):\n",
    "        super().feature3()#can access the features from classes alsooo\n",
    "        print(\"feature 5 is working\")\n",
    "  \n",
    "a=A()\n",
    "b=B()\n",
    "c=C()\n",
    "# a = A(): This line creates an instance of class A, so the __init__ method of class A is called, and it prints \"init of class A.\" a is an instance of class A.\n",
    "\n",
    "# b = B(): This line creates an instance of class B, so the __init__ method of class B is called, and it prints \"init of class B.\" b is an instance of class B.\n",
    "\n",
    "# c = C(): This line creates an instance of class C, so the __init__ method of class C is called. Inside the constructor of class C, you call \n",
    "c.feature5()\n",
    "\n",
    "    "
   ]
  },
  {
   "cell_type": "code",
   "execution_count": 8,
   "metadata": {},
   "outputs": [
    {
     "name": "stdout",
     "output_type": "stream",
     "text": [
      "hmmmm\n",
      "working fine\n",
      "\n",
      "compilling\n",
      "testing\n"
     ]
    }
   ],
   "source": [
    "#duck typing ***polymorphism attributes having same name considered as duck typing\n",
    "class pycharm():\n",
    "    def execute(self):\n",
    "        print(\"compilling\")\n",
    "        print(\"testing\")\n",
    "        \n",
    "class myeditor():\n",
    "    def execute(self):\n",
    "        print(\"hmmmm\")\n",
    "        print(\"working fine\")\n",
    "    \n",
    "class laptop():\n",
    "    def code(self,ide):\n",
    "#        self.ide=ide\n",
    "        ide.execute()#using for multiple purpose using execute function\n",
    "p=pycharm()       \n",
    "m=myeditor()\n",
    "l=laptop()\n",
    "l.code(m)\n",
    "print()\n",
    "l.code(p)"
   ]
  },
  {
   "cell_type": "code",
   "execution_count": 40,
   "metadata": {},
   "outputs": [
    {
     "name": "stdout",
     "output_type": "stream",
     "text": [
      "4\n",
      "6\n",
      "s2 wins\n",
      "1 2\n",
      "3 4\n"
     ]
    }
   ],
   "source": [
    "#****operator overloading and overrinding\n",
    "class student:\n",
    "    def __init__(self,m1,m2):\n",
    "        self.m1=m1\n",
    "        self.m2=m2     \n",
    "    def __add__(self,other):##overload\n",
    "        m1=self.m1+other.m1#here self is s1(student1) and other is s2(student2)\n",
    "        m2=self.m2+other.m2\n",
    "        marks=student(m1,m2)\n",
    "        return marks\n",
    "    def __gt__(self,other):##overload\n",
    "        m1=self.m1+self.m2\n",
    "        m2=other.m1+other.m2\n",
    "        if m1>m2:\n",
    "            return True  \n",
    "        else:\n",
    "            return False    \n",
    "    def __str__(self):##over ride\n",
    "        return \"{} {}\".format(self.m1,self.m2)\n",
    "s1=student(1,2)\n",
    "s2=student(3,4)\n",
    "s3=s1+s2\n",
    "print(s3.m1)\n",
    "print(s3.m2)\n",
    "if s1>s2:\n",
    "    print(\"s1 wins\")\n",
    "else:\n",
    "    print(\"s2 wins\")\n",
    "print(s1)\n",
    "print(s2)"
   ]
  },
  {
   "cell_type": "code",
   "execution_count": 48,
   "metadata": {},
   "outputs": [
    {
     "data": {
      "text/plain": [
       "8"
      ]
     },
     "execution_count": 48,
     "metadata": {},
     "output_type": "execute_result"
    }
   ],
   "source": [
    "#method overloading in python\n",
    "class student:\n",
    "    def __init__(self,m1,m2):\n",
    "        self.m1=m1\n",
    "        self.m2=m2\n",
    "    def add(self,a=None,b=None,c=None):###drives away the problem of method overloading\n",
    "        if a!=None and b!=None and c!=None:\n",
    "            s=a+b+c\n",
    "        elif a!=None and b!=None:\n",
    "            s=a+b\n",
    "        else:\n",
    "            s=a\n",
    "        return s\n",
    "        \n",
    "s1=student(2,4)\n",
    "s1.add(8)"
   ]
  },
  {
   "cell_type": "code",
   "execution_count": 43,
   "metadata": {},
   "outputs": [
    {
     "name": "stdout",
     "output_type": "stream",
     "text": [
      "hii i am vasu\n"
     ]
    }
   ],
   "source": [
    "##method overrideing\n",
    "class A:\n",
    "    def show(self):\n",
    "        print(\"KING\")\n",
    "    def show(self):\n",
    "        print(\"hii i am vasu\")\n",
    "   \n",
    "class B(A):\n",
    "    pass\n",
    "\n",
    "b=B()\n",
    "b.show()"
   ]
  },
  {
   "cell_type": "code",
   "execution_count": 47,
   "metadata": {},
   "outputs": [
    {
     "name": "stdout",
     "output_type": "stream",
     "text": [
      "haha 😒\n"
     ]
    }
   ],
   "source": [
    "##method overriding\n",
    "class A:\n",
    "    def show(self):\n",
    "        print(\"KING\")\n",
    "    def show(self):\n",
    "        print(\"hii i am vasu\")\n",
    "    \n",
    "class B(A):\n",
    "    def show(self):\n",
    "        print(\"haha 😒\")\n",
    "    pass\n",
    "\n",
    "b=B()\n",
    "b.show()\n"
   ]
  },
  {
   "cell_type": "code",
   "execution_count": 14,
   "metadata": {},
   "outputs": [
    {
     "name": "stdout",
     "output_type": "stream",
     "text": [
      "5\n",
      "10,10,10,10,10\n",
      "20,20,20,20,20\n",
      "20,20,20,20,20\n",
      "30,30,30,30,30\n",
      "40,40,40,40,40\n",
      "4\n"
     ]
    }
   ],
   "source": [
    "class Student:\n",
    "    def __init__(self,scores):\n",
    "        self.scores=scores\n",
    "    def total(self):\n",
    "        return sum(self.scores)\n",
    "n=int(input())\n",
    "kristen_scores=list(map(int,input().split(\",\")))0.\n",
    "kristen=Student(kristen_scores)\n",
    "kristen_sum=kristen.total()\n",
    "count=0\n",
    "for i in range(n-1):\n",
    "    student_scores=list(map(int,input().split(\",\")))\n",
    "    student=Student(student_scores)\n",
    "    if kristen_sum<student.total():\n",
    "        count=count+1\n",
    "print(count)\n"
   ]
  },
  {
   "cell_type": "code",
   "execution_count": 9,
   "metadata": {},
   "outputs": [
    {
     "data": {
      "text/plain": [
       "3"
      ]
     },
     "execution_count": 9,
     "metadata": {},
     "output_type": "execute_result"
    }
   ],
   "source": [
    "class claci:\n",
    "    def __init__(self,x,y):\n",
    "        self.x=x\n",
    "        self.y=y\n",
    "    def addition(self):\n",
    "        return self.x+self.y\n",
    "c=claci(2,1)\n",
    "c.addition()"
   ]
  },
  {
   "cell_type": "code",
   "execution_count": 1,
   "metadata": {},
   "outputs": [
    {
     "name": "stdout",
     "output_type": "stream",
     "text": [
      "1\n",
      "Hello!\n",
      "2\n"
     ]
    }
   ],
   "source": [
    "def my_decorator(func):##func==say_hello\n",
    "    def wrapper():\n",
    "        print(\"1\")\n",
    "        func()#say_hello func is executed\n",
    "        print(\"2\")\n",
    "    return wrapper\n",
    "\n",
    "@my_decorator ##below acts an argument to the above func\n",
    "def say_hello():\n",
    "    print(\"Hello!\")\n",
    "say_hello()"
   ]
  },
  {
   "cell_type": "code",
   "execution_count": null,
   "metadata": {},
   "outputs": [],
   "source": []
  },
  {
   "cell_type": "code",
   "execution_count": null,
   "metadata": {},
   "outputs": [],
   "source": []
  }
 ],
 "metadata": {
  "kernelspec": {
   "display_name": "Python 3 (ipykernel)",
   "language": "python",
   "name": "python3"
  },
  "language_info": {
   "codemirror_mode": {
    "name": "ipython",
    "version": 3
   },
   "file_extension": ".py",
   "mimetype": "text/x-python",
   "name": "python",
   "nbconvert_exporter": "python",
   "pygments_lexer": "ipython3",
   "version": "3.11.3"
  }
 },
 "nbformat": 4,
 "nbformat_minor": 2
}
