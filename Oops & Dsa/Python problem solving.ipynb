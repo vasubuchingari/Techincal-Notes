{
 "cells": [
  {
   "cell_type": "code",
   "execution_count": 1,
   "id": "b6feb8a7",
   "metadata": {},
   "outputs": [
    {
     "name": "stdout",
     "output_type": "stream",
     "text": [
      "enter the number:12345\n",
      "54321\n"
     ]
    }
   ],
   "source": [
    "#Python program to reverse a number\n",
    "#uisng while loop\n",
    "n=int(input(\"enter the number:\"))\n",
    "\n",
    "rev=0\n",
    "while n!=0:\n",
    "    rev=rev*10+n%10\n",
    "    n=n//10\n",
    "print(rev)"
   ]
  },
  {
   "cell_type": "code",
   "execution_count": 6,
   "id": "37e42000",
   "metadata": {},
   "outputs": [
    {
     "name": "stdout",
     "output_type": "stream",
     "text": [
      "enter the number:123\n",
      "321\n"
     ]
    }
   ],
   "source": [
    "n=(input(\"enter the number:\"))\n",
    "sli=int(str(n)[::-1])\n",
    "print(sli)"
   ]
  },
  {
   "cell_type": "code",
   "execution_count": null,
   "id": "6b4d1a80",
   "metadata": {},
   "outputs": [],
   "source": []
  },
  {
   "cell_type": "code",
   "execution_count": 3,
   "id": "322b6916",
   "metadata": {},
   "outputs": [
    {
     "name": "stdout",
     "output_type": "stream",
     "text": [
      "enter a number:153\n",
      "yes\n"
     ]
    }
   ],
   "source": [
    "# Check Armstrong using while loop a number that is equal to the sum of cubes of its digits\n",
    "n=int(input(\"enter a number:\"))\n",
    "temp=n\n",
    "size=len(str(n))\n",
    "sum=0\n",
    "while temp>0:\n",
    "    digit=temp%10\n",
    "    sum=sum+digit**size\n",
    "    temp=temp//10\n",
    "if sum==n:\n",
    "    print(\"yes\")\n",
    "else:\n",
    "    print(\"no\")"
   ]
  },
  {
   "cell_type": "code",
   "execution_count": null,
   "id": "5defadc3",
   "metadata": {},
   "outputs": [],
   "source": []
  },
  {
   "cell_type": "code",
   "execution_count": 1,
   "id": "6181ffe0",
   "metadata": {},
   "outputs": [
    {
     "data": {
      "text/plain": [
       "1"
      ]
     },
     "execution_count": 1,
     "metadata": {},
     "output_type": "execute_result"
    }
   ],
   "source": [
    "5%2"
   ]
  },
  {
   "cell_type": "code",
   "execution_count": 36,
   "id": "b20d1734",
   "metadata": {},
   "outputs": [
    {
     "name": "stdout",
     "output_type": "stream",
     "text": [
      "enter a number:11\n",
      "its a prime\n"
     ]
    }
   ],
   "source": [
    "#check primeee\n",
    "num=int(input(\"enter a number:\"))\n",
    "\n",
    "if num>1:\n",
    "    for i in range(2,num//2):\n",
    "        if num%i==0:\n",
    "            print(\"its not a prime\")\n",
    "            break\n",
    "    else:\n",
    "        print(\"its a prime\")\n",
    "        \n",
    "    \n",
    "else:\n",
    "    print(\"number is not a prime\")"
   ]
  },
  {
   "cell_type": "code",
   "execution_count": null,
   "id": "0d7fa862",
   "metadata": {},
   "outputs": [],
   "source": []
  },
  {
   "cell_type": "code",
   "execution_count": 49,
   "id": "81fbab58",
   "metadata": {},
   "outputs": [
    {
     "name": "stdout",
     "output_type": "stream",
     "text": [
      "enter the number:7\n",
      "0\n",
      "1\n",
      "1\n",
      "2\n",
      "3\n",
      "5\n",
      "8\n"
     ]
    }
   ],
   "source": [
    "#fibonnacci series\n",
    "num=int(input(\"enter the number:\"))\n",
    "first=0\n",
    "second=1\n",
    "for i in range(0,n):\n",
    "    if i<=1:\n",
    "        result=i\n",
    "    else:\n",
    "        result=first+second\n",
    "        first=second\n",
    "        second=result\n",
    "    print(result)"
   ]
  },
  {
   "cell_type": "code",
   "execution_count": 3,
   "id": "dc9dc1ee",
   "metadata": {},
   "outputs": [
    {
     "name": "stdout",
     "output_type": "stream",
     "text": [
      "The 5-th Fibonacci number is 5\n"
     ]
    }
   ],
   "source": [
    "def fibonacci(n):\n",
    "    if n <= 1:\n",
    "        return n\n",
    "    else:\n",
    "        return fibonacci(n - 1) + fibonacci(n - 2)\n",
    "\n",
    "# Example usage:\n",
    "n = 5  # Change this to the desired Fibonacci number you want to calculate\n",
    "result = fibonacci(n)\n",
    "print(f\"The {n}-th Fibonacci number is {result}\")\n"
   ]
  },
  {
   "cell_type": "code",
   "execution_count": 5,
   "id": "6c9d851f",
   "metadata": {},
   "outputs": [
    {
     "name": "stdout",
     "output_type": "stream",
     "text": [
      "5\n",
      "['h', 'e', 'l', 'l', 'o']\n"
     ]
    }
   ],
   "source": [
    "s=\"hello\"\n",
    "l=[]\n",
    "print(len(s))\n",
    "for i in range(len(s)):\n",
    "    x=s[i]\n",
    "    l.append(x)\n",
    "print(l)\n",
    "l=list(s)\n",
    "print(l)\n"
   ]
  },
  {
   "cell_type": "code",
   "execution_count": 11,
   "id": "2bc8cb95",
   "metadata": {},
   "outputs": [
    {
     "name": "stdout",
     "output_type": "stream",
     "text": [
      "enter a integer :121\n",
      "121\n",
      "yes\n"
     ]
    }
   ],
   "source": [
    "#Python program for palindrome number using iterative method\n",
    "n=int(input(\"enter a integer :\"))\n",
    "temp=n\n",
    "rev=0\n",
    "while temp!=0:\n",
    "    rev=rev*10+temp%10\n",
    "    temp=temp//10\n",
    "print(rev)\n",
    "if rev==n:\n",
    "    print(\"yes\")\n",
    "else:\n",
    "    print(\"No\")"
   ]
  },
  {
   "cell_type": "code",
   "execution_count": 83,
   "id": "d6e3f498",
   "metadata": {},
   "outputs": [
    {
     "name": "stdout",
     "output_type": "stream",
     "text": [
      "enter the num:3\n",
      "enter the num:2\n",
      "enter the num:1\n",
      "n1 is greatest\n"
     ]
    }
   ],
   "source": [
    "n1=int(input(\"enter the num:\"))\n",
    "n2=int(input(\"enter the num:\"))\n",
    "n3=int(input(\"enter the num:\"))\n",
    "\n",
    "if n1>n2 and n1>n3:\n",
    "    print(\"n1 is greatest\")\n",
    "if n1<n2 and n3<n2:\n",
    "    print(\"n2 is greatest\")\n",
    "if n1<n3 and n2<n3:\n",
    "    print(\"n3 is greatest\")\n"
   ]
  },
  {
   "cell_type": "code",
   "execution_count": 12,
   "id": "a1e3eef1",
   "metadata": {},
   "outputs": [
    {
     "name": "stdout",
     "output_type": "stream",
     "text": [
      "please give a number : 110001000\n",
      "num is binary\n"
     ]
    }
   ],
   "source": [
    "#to check wheather a number is binary or not\n",
    "num = int(input(\"please give a number : \"))\n",
    "while(num>0):\n",
    "    j=num%10\n",
    "    if j!=0 and j!=1:\n",
    "        print(\"num is not binary\")\n",
    "        break\n",
    "    num=num//10\n",
    "if num==0:\n",
    "    print(\"num is binary\") "
   ]
  },
  {
   "cell_type": "code",
   "execution_count": 95,
   "id": "48e0a669",
   "metadata": {},
   "outputs": [
    {
     "name": "stdout",
     "output_type": "stream",
     "text": [
      "enter a number6\n",
      "enter number4\n",
      "4 6\n"
     ]
    }
   ],
   "source": [
    "#swapping two number\n",
    "a=int(input(\"enter a number\"))\n",
    "b=int(input(\"enter number\"))\n",
    "a=a-b\n",
    "b=a+b\n",
    "a=b-a\n",
    "print(a,b)"
   ]
  },
  {
   "cell_type": "code",
   "execution_count": 96,
   "id": "8cf1d49a",
   "metadata": {},
   "outputs": [
    {
     "name": "stdout",
     "output_type": "stream",
     "text": [
      "enter number:123\n",
      "6\n"
     ]
    }
   ],
   "source": [
    "#sum of total number in the list\n",
    "n=int(input(\"enter number:\"))\n",
    "su=0\n",
    "while n!=0:\n",
    "    su=su+n%10\n",
    "    n=n//10\n",
    "print(su)"
   ]
  },
  {
   "cell_type": "code",
   "execution_count": 97,
   "id": "9c979715",
   "metadata": {},
   "outputs": [
    {
     "name": "stdout",
     "output_type": "stream",
     "text": [
      "enter a number1\n",
      "enter number2\n",
      "2 1\n"
     ]
    }
   ],
   "source": [
    "#swapping two number using third variable\n",
    "a=int(input(\"enter a number\"))\n",
    "b=int(input(\"enter number\"))\n",
    "temp=a\n",
    "a=b\n",
    "b=temp\n",
    "print(a,b)"
   ]
  },
  {
   "cell_type": "code",
   "execution_count": null,
   "id": "f39a545a",
   "metadata": {},
   "outputs": [],
   "source": []
  },
  {
   "cell_type": "code",
   "execution_count": 9,
   "id": "27e18ab6",
   "metadata": {},
   "outputs": [
    {
     "data": {
      "text/plain": [
       "105.0"
      ]
     },
     "execution_count": 9,
     "metadata": {},
     "output_type": "execute_result"
    }
   ],
   "source": [
    "210/2"
   ]
  },
  {
   "cell_type": "code",
   "execution_count": 10,
   "id": "1e94e4c9",
   "metadata": {},
   "outputs": [
    {
     "data": {
      "text/plain": [
       "35.0"
      ]
     },
     "execution_count": 10,
     "metadata": {},
     "output_type": "execute_result"
    }
   ],
   "source": [
    "105/3"
   ]
  },
  {
   "cell_type": "code",
   "execution_count": 14,
   "id": "0c73d7d6",
   "metadata": {},
   "outputs": [
    {
     "name": "stdout",
     "output_type": "stream",
     "text": [
      "enter a number to check prime factors:12\n",
      "2\n",
      "2\n",
      "3\n"
     ]
    }
   ],
   "source": [
    "#checks prime factors\n",
    "n=int(input(\"enter a number to check prime factors:\"))\n",
    "i=2\n",
    "while n>1:\n",
    "    rem=n%i\n",
    "    if rem==0:\n",
    "        n=n/i\n",
    "        print(i)\n",
    "    else:\n",
    "        i=i+1"
   ]
  },
  {
   "cell_type": "code",
   "execution_count": 9,
   "id": "a016bbc5",
   "metadata": {},
   "outputs": [
    {
     "name": "stdout",
     "output_type": "stream",
     "text": [
      "enter:6\n",
      "its perfect\n"
     ]
    }
   ],
   "source": [
    "n=int(input(\"enter:\"))\n",
    "sum=0\n",
    "for i in range(1,n):\n",
    "    if n%i==0:\n",
    "        sum=sum+i\n",
    "    else:\n",
    "        i=i+1\n",
    "if(sum==n):\n",
    "    print(\"its perfect\")\n",
    "else:\n",
    "    print(\"not a perfect\")"
   ]
  },
  {
   "cell_type": "code",
   "execution_count": 24,
   "id": "1dcd3956",
   "metadata": {},
   "outputs": [
    {
     "name": "stdout",
     "output_type": "stream",
     "text": [
      "5\n",
      "120\n"
     ]
    }
   ],
   "source": [
    "#factorial print\n",
    "fact=1\n",
    "n=int(input())\n",
    "for i in range (1,n+1):\n",
    "    fact=fact*i\n",
    "print(fact)"
   ]
  },
  {
   "cell_type": "code",
   "execution_count": null,
   "id": "6bf8302d",
   "metadata": {},
   "outputs": [],
   "source": []
  },
  {
   "cell_type": "code",
   "execution_count": 34,
   "id": "7c5a6e7b",
   "metadata": {},
   "outputs": [
    {
     "name": "stdout",
     "output_type": "stream",
     "text": [
      "Enter a number: 9\n",
      "First 9 prime numbers are: \n",
      "2 3 5 7 11 13 17 19 23 "
     ]
    }
   ],
   "source": [
    "# Python Program to find first n prime numbers\n",
    " \n",
    "num = int(input(\"Enter a number: \"))\n",
    "count = 0\n",
    "n = 2\n",
    " \n",
    "print(\"First\", num, \"prime numbers are: \")\n",
    "while count < num:\n",
    "    prime_flag = True\n",
    "     \n",
    "    for i in range(2, n//2 + 1):\n",
    "        if (n % i) == 0:\n",
    "            prime_flag = False\n",
    "            break\n",
    "     \n",
    "    if prime_flag:\n",
    "        print(n, end =\" \")\n",
    "        count = count + 1\n",
    "    n = n + 1\n",
    "    "
   ]
  },
  {
   "cell_type": "code",
   "execution_count": 3,
   "id": "6c5f8f73",
   "metadata": {},
   "outputs": [
    {
     "name": "stdout",
     "output_type": "stream",
     "text": [
      "enter a charecterz\n",
      "its a vowel\n"
     ]
    }
   ],
   "source": [
    "n=str(input(\"enter a charecter\"))\n",
    "if n==\"a\" or \"e\" or \"i\" or \"o\" or \"u\":\n",
    "    print(\"its a vowel\")\n",
    "else:\n",
    "    print(\"consonent\")\n"
   ]
  },
  {
   "cell_type": "code",
   "execution_count": 14,
   "id": "41a3a1d7",
   "metadata": {},
   "outputs": [
    {
     "name": "stdout",
     "output_type": "stream",
     "text": [
      "i am vasu\n"
     ]
    }
   ],
   "source": [
    "def remove_(s1,s2):\n",
    "    print(s1.replace(s2,\"vasu\"))\n",
    " \n",
    "remove_(\"i am ok\",\"ok\")"
   ]
  },
  {
   "cell_type": "code",
   "execution_count": 12,
   "id": "6ee02b86",
   "metadata": {},
   "outputs": [
    {
     "name": "stdout",
     "output_type": "stream",
     "text": [
      "please give a String : yahooo this is vasu\n",
      "please give a Character to remove : vasu\n",
      "yahooo this is \n"
     ]
    }
   ],
   "source": [
    "def remove_char(s1,s2):\n",
    "    print(s1.replace(s2, ''))\n",
    "s1 = input(\"please give a String : \")\n",
    "s2 = input(\"please give a Character to remove : \")\n",
    "remove_char(s1,s2)"
   ]
  },
  {
   "cell_type": "code",
   "execution_count": 16,
   "id": "7464cd42",
   "metadata": {},
   "outputs": [
    {
     "data": {
      "text/plain": [
       "9"
      ]
     },
     "execution_count": 16,
     "metadata": {},
     "output_type": "execute_result"
    }
   ],
   "source": [
    "def count_char(c):\n",
    "    count=0\n",
    "    for i in range(len(c)):\n",
    "        if c[i]==\"a\":\n",
    "            count=count+1\n",
    "    return count\n",
    "        \n",
    "        \n",
    "c=\"amabigaoaaausaaa\"\n",
    "count_char(c)"
   ]
  },
  {
   "cell_type": "code",
   "execution_count": 17,
   "id": "0092a0a8",
   "metadata": {},
   "outputs": [
    {
     "name": "stdout",
     "output_type": "stream",
     "text": [
      "its anagram\n"
     ]
    }
   ],
   "source": [
    "s1=\"vasu\"\n",
    "s1=\"usav\"\n",
    "if sorted(s1)==sorted(s2):\n",
    "    print(\"its anagram\")\n",
    "else:\n",
    "    print(\"nope bro\")"
   ]
  },
  {
   "cell_type": "code",
   "execution_count": 19,
   "id": "206a3bb6",
   "metadata": {},
   "outputs": [
    {
     "data": {
      "text/plain": [
       "False"
      ]
     },
     "execution_count": 19,
     "metadata": {},
     "output_type": "execute_result"
    }
   ],
   "source": [
    "def ispalindrome(s):\n",
    "    for i in range(0,len(s)//2):\n",
    "        if s[i]!=s[len(s)-i-1]:\n",
    "            return False\n",
    "    return True\n",
    "    \n",
    "    \n",
    "s=\"vasu\"\n",
    "ispalindrome(s)"
   ]
  },
  {
   "cell_type": "code",
   "execution_count": 24,
   "id": "5ed1d2a2",
   "metadata": {},
   "outputs": [
    {
     "name": "stdout",
     "output_type": "stream",
     "text": [
      "its true\n"
     ]
    }
   ],
   "source": [
    "ch=\"9\"\n",
    "if ch>=\"0\" and ch<=\"9\":\n",
    "    print(\"its true\")\n",
    "else:\n",
    "    print(\"false\")"
   ]
  },
  {
   "cell_type": "code",
   "execution_count": 25,
   "id": "ae603216",
   "metadata": {},
   "outputs": [
    {
     "name": "stdout",
     "output_type": "stream",
     "text": [
      "enter123\n",
      "yupp\n"
     ]
    }
   ],
   "source": [
    "ch=input(\"enter\")\n",
    "if ch.isdigit():\n",
    "    print(\"yupp\")\n",
    "else:\n",
    "    print(\"nope\")"
   ]
  },
  {
   "cell_type": "code",
   "execution_count": 43,
   "id": "08119937",
   "metadata": {},
   "outputs": [
    {
     "data": {
      "text/plain": [
       "'hemanth❤️loves❤️yuk'"
      ]
     },
     "execution_count": 43,
     "metadata": {},
     "output_type": "execute_result"
    }
   ],
   "source": [
    "def concat(s1,s2):\n",
    "    res=\"\"\n",
    "    for x in s1:\n",
    "        if x==\" \":\n",
    "            x=s2\n",
    "        res=res+x\n",
    "    return res\n",
    "\n",
    "s1=\"hemanth loves yuk\"\n",
    "s2=\"❤️\"\n",
    "concat(s1,s2)"
   ]
  },
  {
   "cell_type": "code",
   "execution_count": 40,
   "id": "cfa45357",
   "metadata": {},
   "outputs": [
    {
     "data": {
      "text/plain": [
       "'HEMANTH'"
      ]
     },
     "execution_count": 40,
     "metadata": {},
     "output_type": "execute_result"
    }
   ],
   "source": [
    "def lcase_to_ucase(s):\n",
    "    res=\"\"\n",
    "    for x in s:\n",
    "        if x.islower():\n",
    "            x=x.upper()\n",
    "        else:\n",
    "            pass\n",
    "        res=res+x\n",
    "    return res\n",
    "s=\"hemanth\"\n",
    "lcase_to_ucase(s)\n",
    "            \n",
    "    "
   ]
  },
  {
   "cell_type": "code",
   "execution_count": 41,
   "id": "cfc2b4a3",
   "metadata": {
    "scrolled": false
   },
   "outputs": [
    {
     "name": "stdout",
     "output_type": "stream",
     "text": [
      "hEmAnth\n"
     ]
    }
   ],
   "source": [
    "\n",
    "def lcase_to_ucase(s,vowels):\n",
    "    for char in s:\n",
    "        if char in vowels:\n",
    "            u_char=char.upper()\n",
    "            s=s.replace(char,u_char)\n",
    "    return s\n",
    "            \n",
    "            \n",
    "s=\"hemanth\"\n",
    "vowels=\"aeiou\"\n",
    "result = lcase_to_ucase(s, vowels)\n",
    "print(result)  # Output should be \"hEmAnth\""
   ]
  },
  {
   "cell_type": "markdown",
   "id": "bbc689e8",
   "metadata": {},
   "source": [
    "\n",
    "vowels=\"aeiou\"\n",
    "st=\"\"\n",
    "for x in s:\n",
    "    if x in vowels:\n",
    "        x=\"\"\n",
    "    st=st+x\n",
    "st.replace(\" \",\"\")\n",
    "small=\"\".join(st.split())\n",
    "print(small)\n",
    "print(st)"
   ]
  },
  {
   "cell_type": "code",
   "execution_count": 14,
   "id": "91bf12c2",
   "metadata": {},
   "outputs": [
    {
     "name": "stdout",
     "output_type": "stream",
     "text": [
      "10\n",
      "6\n"
     ]
    }
   ],
   "source": [
    "s=\"hello aeiou iam the \"\n",
    "vowels=\"aeiou\"\n",
    "v_count=0\n",
    "c_count=0\n",
    "for x in s:\n",
    "    if x in vowels:\n",
    "        v_count=v_count+1\n",
    "    elif x==\" \":\n",
    "        pass\n",
    "    else:\n",
    "        c_count=c_count+1\n",
    "print(v_count)\n",
    "print(c_count)\n",
    "    "
   ]
  },
  {
   "cell_type": "code",
   "execution_count": 29,
   "id": "926d4e60",
   "metadata": {},
   "outputs": [
    {
     "name": "stdout",
     "output_type": "stream",
     "text": [
      "max_freq is: 3\n",
      "h : 2\n",
      "e : 3\n",
      "l : 2\n",
      "o : 2\n",
      "a : 2\n",
      "i : 2\n",
      "u : 1\n",
      "m : 1\n",
      "t : 1\n",
      "e "
     ]
    }
   ],
   "source": [
    "s=\"hello aeiou iam the \"\n",
    "dic={}\n",
    "for char in s:\n",
    "    if char==\" \":\n",
    "        pass\n",
    "    elif char in dic:\n",
    "        dic[char]=dic[char]+1\n",
    "    else:\n",
    "        dic[char]=1\n",
    "max_freq=max(dic.values())\n",
    "print(\"max_freq is:\",max_freq)\n",
    "\n",
    "for key in dic.keys():\n",
    "    print(key,\":\",dic[key])\n",
    "for char in dic:\n",
    "    if dic[char]==max_freq:\n",
    "        print(char,end=\" \")"
   ]
  },
  {
   "cell_type": "code",
   "execution_count": 28,
   "id": "ceb37f6c",
   "metadata": {},
   "outputs": [
    {
     "name": "stdout",
     "output_type": "stream",
     "text": [
      "Keys:\n",
      "a : 1\n",
      "b : 2\n",
      "c : 3\n",
      "Values:\n",
      "1\n",
      "2\n",
      "3\n"
     ]
    }
   ],
   "source": [
    "dictionary = {\"a\": 1, \"b\": 2, \"c\": 3}\n",
    "\n",
    "# Printing keys\n",
    "print(\"Keys:\")\n",
    "for key in dictionary.keys():\n",
    "    print(key,\":\",dictionary[key])\n",
    "\n"
   ]
  },
  {
   "cell_type": "code",
   "execution_count": 23,
   "id": "444dcc99",
   "metadata": {},
   "outputs": [
    {
     "name": "stdout",
     "output_type": "stream",
     "text": [
      "H-llo world!\n"
     ]
    }
   ],
   "source": [
    "st=\"Hello world!\"\n",
    "vow=\"aeiou\"\n",
    "count=0\n",
    "for x in st:\n",
    "    if count>1:\n",
    "        break\n",
    "    if x in vow:\n",
    "        st=st.replace(x,\"-\")\n",
    "    count=count+1\n",
    "print(st)"
   ]
  },
  {
   "cell_type": "code",
   "execution_count": 34,
   "id": "d3162e50",
   "metadata": {},
   "outputs": [
    {
     "name": "stdout",
     "output_type": "stream",
     "text": [
      "10 10 35\n"
     ]
    }
   ],
   "source": [
    "st=\"Hello world1234372929!!*&!!(*!(*!))!(!)!)*(!*(!*(!())))\"\n",
    "\n",
    "alpha_count=0\n",
    "num_count=0\n",
    "sp_count=0\n",
    "for x in st:\n",
    "    if x.isalpha():\n",
    "        alpha_count=alpha_count+1\n",
    "    elif x.isdigit():\n",
    "        num_count=num_count+1\n",
    "    else:\n",
    "        sp_count=sp_count+1\n",
    "print(alpha_count,num_count,sp_count)"
   ]
  },
  {
   "cell_type": "code",
   "execution_count": 42,
   "id": "fb798e1c",
   "metadata": {},
   "outputs": [
    {
     "name": "stdout",
     "output_type": "stream",
     "text": [
      "h\n",
      "e\n",
      "l\n",
      "l\n",
      "o\n",
      " \n",
      "w\n",
      "o\n",
      "r\n",
      "l\n",
      "d\n"
     ]
    }
   ],
   "source": [
    "st=\"hello world\"\n",
    "for char in st:\n",
    "    print(char)\n"
   ]
  },
  {
   "cell_type": "code",
   "execution_count": 11,
   "id": "667d2258",
   "metadata": {},
   "outputs": [
    {
     "name": "stdout",
     "output_type": "stream",
     "text": [
      "smksdksnskssisdnskdssidnsidssnsincdddfnd\n"
     ]
    }
   ],
   "source": [
    "st=\"smksdk snskssi sdnskds sidnsids snsi nc d d d fn d\"\n",
    "st=\"\".join(st.split())\n",
    "print(st)"
   ]
  },
  {
   "cell_type": "code",
   "execution_count": 47,
   "id": "93e33806",
   "metadata": {},
   "outputs": [
    {
     "name": "stdout",
     "output_type": "stream",
     "text": [
      "[2, 4, 6, 8, 10]\n"
     ]
    }
   ],
   "source": [
    "def double(x):\n",
    "    return x * 2\n",
    "numbers = [1, 2, 3, 4, 5]\n",
    "doubled_numbers = list(map(double, numbers))\n",
    "print(doubled_numbers)"
   ]
  },
  {
   "cell_type": "code",
   "execution_count": 13,
   "id": "ea93dc93",
   "metadata": {},
   "outputs": [
    {
     "name": "stdout",
     "output_type": "stream",
     "text": [
      "Hello-World\n",
      "HelloWorld\n"
     ]
    }
   ],
   "source": [
    "s1=\"Hello\"\n",
    "s2=\"World\"\n",
    "print(\"-\".join([s1,s2]))\n",
    "s3=s1+s2\n",
    "print(s3)"
   ]
  },
  {
   "cell_type": "code",
   "execution_count": 54,
   "id": "28bcff82",
   "metadata": {},
   "outputs": [
    {
     "name": "stdout",
     "output_type": "stream",
     "text": [
      "Misp\n"
     ]
    }
   ],
   "source": [
    "st=\"Mississippi\"\n",
    "new_st=\"\"\n",
    "for x in st:\n",
    "    if x in new_st:\n",
    "        continue\n",
    "    else:\n",
    "        new_st=new_st+x\n",
    "print(new_st)"
   ]
  },
  {
   "cell_type": "code",
   "execution_count": 4,
   "id": "fe89eb47",
   "metadata": {},
   "outputs": [
    {
     "name": "stdout",
     "output_type": "stream",
     "text": [
      "11\n"
     ]
    }
   ],
   "source": [
    "s=\"d1d1d1d1d1dd1d1d1d1d1dd1d\"\n",
    "a=0\n",
    "for char in s:\n",
    "    if char.isdigit():\n",
    "        a=a+int(char)\n",
    "    else:\n",
    "        pass\n",
    "print(a)\n",
    "    "
   ]
  },
  {
   "cell_type": "code",
   "execution_count": 19,
   "id": "f59d634c",
   "metadata": {},
   "outputs": [
    {
     "name": "stdout",
     "output_type": "stream",
     "text": [
      "h qusc\n"
     ]
    }
   ],
   "source": [
    "s=\"hello quescol\"\n",
    "freq_dic={}\n",
    "\n",
    "for char in s:\n",
    "    if char in freq_dic:\n",
    "        freq_dic[char]=freq_dic[char]+1\n",
    "    else:\n",
    "        freq_dic[char]=1\n",
    "ss=\"\"\n",
    "for char in s:\n",
    "    if freq_dic[char]==1:\n",
    "        ss=ss+char\n",
    "    else:\n",
    "        continue\n",
    "print(ss)\n"
   ]
  },
  {
   "cell_type": "code",
   "execution_count": 20,
   "id": "b3b1719e",
   "metadata": {},
   "outputs": [
    {
     "name": "stdout",
     "output_type": "stream",
     "text": [
      "Heloo World!\n"
     ]
    }
   ],
   "source": [
    "s=\"Heloo World!\"\n",
    "c=\"\"\n",
    "for char in s:\n",
    "    c=c+char\n",
    "print(c)"
   ]
  },
  {
   "cell_type": "code",
   "execution_count": 6,
   "id": "14e28845",
   "metadata": {},
   "outputs": [
    {
     "name": "stdout",
     "output_type": "stream",
     "text": [
      "ddeeeeeeffffkmmnw\n",
      "wnmmkffffeeeeeedd\n"
     ]
    }
   ],
   "source": [
    "s=\"wefkdfdefmeefenme\"\n",
    "sl=list(s)\n",
    "print(\"\".join(sorted(sl)))\n",
    "print(\"\".join(reversed(sorted(sl))))\n"
   ]
  },
  {
   "cell_type": "code",
   "execution_count": 12,
   "id": "a334c4b0",
   "metadata": {},
   "outputs": [
    {
     "name": "stdout",
     "output_type": "stream",
     "text": [
      "3121\n"
     ]
    }
   ],
   "source": [
    "s=\"1213\"\n",
    "print(s[::-1])"
   ]
  },
  {
   "cell_type": "code",
   "execution_count": 15,
   "id": "fb699718",
   "metadata": {},
   "outputs": [
    {
     "name": "stdout",
     "output_type": "stream",
     "text": [
      "4.0\n"
     ]
    }
   ],
   "source": [
    "#finding the missing value from the given array\n",
    "array=[1,2,3,5]\n",
    "n=len(array)+1\n",
    "s=n*(n+1)//2\n",
    "arry_sum=sum(array)\n",
    "m_val=s-arry_sum\n",
    "print(m_val)"
   ]
  },
  {
   "cell_type": "code",
   "execution_count": 9,
   "id": "4b0ef445",
   "metadata": {},
   "outputs": [
    {
     "name": "stdout",
     "output_type": "stream",
     "text": [
      "pwke\n"
     ]
    }
   ],
   "source": [
    "s = \"pwwkew\"\n",
    "dic={}\n",
    "for char in s:\n",
    "    if char in dic:\n",
    "        continue\n",
    "    else:\n",
    "        dic[char]=1\n",
    "st=\"\"\n",
    "for keys,values in dic.items():\n",
    "    st=st+keys\n",
    "print(st)\n",
    "\n",
    "max_count=0\n",
    "for i in range(len(st)-1):\n",
    "    for j in range(i+1,len(st)):\n",
    "        if st[i:j] in s:\n",
    "            max_count=max_count+1\n",
    "        \n",
    "        \n",
    "        "
   ]
  },
  {
   "cell_type": "code",
   "execution_count": 12,
   "id": "4b0ec194",
   "metadata": {},
   "outputs": [
    {
     "name": "stdout",
     "output_type": "stream",
     "text": [
      "{1, 3}\n"
     ]
    }
   ],
   "source": [
    "set={1,2,3}\n",
    "set.remove(2)\n",
    "print(set)"
   ]
  },
  {
   "cell_type": "code",
   "execution_count": 13,
   "id": "d8ebf550",
   "metadata": {},
   "outputs": [
    {
     "name": "stdout",
     "output_type": "stream",
     "text": [
      "2\n"
     ]
    }
   ],
   "source": [
    "l=[1,3,4,5,6]\n",
    "n=len(l)+1\n",
    "s=sum(l)\n",
    "s_n=n*(n+1)//2\n",
    "r=s_n-s\n",
    "print(r)"
   ]
  },
  {
   "cell_type": "code",
   "execution_count": 17,
   "id": "9e58e7b8",
   "metadata": {},
   "outputs": [
    {
     "name": "stdout",
     "output_type": "stream",
     "text": [
      "please enter the size of array: 3\n",
      "[0, 0, 0]\n",
      "please enter the element of array element between 0 to 2 :1\n",
      "please enter the element of array element between 0 to 2 :1\n",
      "please enter the element of array element between 0 to 2 :2\n",
      "1 is repeated 2 times\n"
     ]
    }
   ],
   "source": [
    "arr, occur = [], [];\n",
    "n = int(input(\"please enter the size of array: \"))\n",
    "for x in range(n):\n",
    "    occur.append(0)\n",
    "print(occur)\n",
    "for x in range(n):\n",
    "    element = int(input(f\"please enter the element of array element between 0 to {n-1} :\"))\n",
    "    arr.append(element)\n",
    "    occur[arr[x]]=occur[arr[x]]+1\n",
    "for x in range(n):\n",
    "    if occur[x]>1:\n",
    "        print(f\"{x} is repeated {occur[x]} times\")"
   ]
  },
  {
   "cell_type": "code",
   "execution_count": 22,
   "id": "12c497fc",
   "metadata": {},
   "outputs": [
    {
     "name": "stdout",
     "output_type": "stream",
     "text": [
      "[(2, 10), (3, 9), (4, 8), (5, 7)]\n"
     ]
    }
   ],
   "source": [
    "lis=[]\n",
    "#pair of sums equal or not\n",
    "def pairs(arr,s):\n",
    "    for i in range(len(arr)):\n",
    "        for j in range(i+1,len(arr)):\n",
    "            if arr[i]+arr[j]==s:\n",
    "                lis.append((arr[i],arr[j]))\n",
    "                \n",
    "    \n",
    "arr = [1, 2, 3, 4, 5, 6, 7, 8, 9, 10]\n",
    "s=12\n",
    "pairs(arr,s)\n",
    "print(lis)\n"
   ]
  },
  {
   "cell_type": "code",
   "execution_count": 26,
   "id": "c9341abb",
   "metadata": {},
   "outputs": [
    {
     "name": "stdout",
     "output_type": "stream",
     "text": [
      "577\n",
      "0\n"
     ]
    }
   ],
   "source": [
    "arr=[0,1,23,4,577,88,7,100]\n",
    "minimum=float(\"inf\")\n",
    "maximum=float(\"-inf\")\n",
    "for num in arr:\n",
    "    if num<minimum:\n",
    "        minimum=num\n",
    "    if num>maximum:\n",
    "        maximum=num\n",
    "print(maximum)\n",
    "print(minimum)\n",
    "        "
   ]
  },
  {
   "cell_type": "code",
   "execution_count": 1,
   "id": "082b07a0",
   "metadata": {},
   "outputs": [
    {
     "data": {
      "text/plain": [
       "9"
      ]
     },
     "execution_count": 1,
     "metadata": {},
     "output_type": "execute_result"
    }
   ],
   "source": [
    "-1%10"
   ]
  },
  {
   "cell_type": "code",
   "execution_count": 3,
   "id": "6b28309f",
   "metadata": {},
   "outputs": [],
   "source": [
    "import math"
   ]
  },
  {
   "cell_type": "code",
   "execution_count": 5,
   "id": "c9b1d365",
   "metadata": {},
   "outputs": [
    {
     "data": {
      "text/plain": [
       "-1"
      ]
     },
     "execution_count": 5,
     "metadata": {},
     "output_type": "execute_result"
    }
   ],
   "source": [
    "int(math.fmod(-1,10))"
   ]
  },
  {
   "cell_type": "code",
   "execution_count": 14,
   "id": "60d91df4",
   "metadata": {},
   "outputs": [
    {
     "name": "stdout",
     "output_type": "stream",
     "text": [
      "33.0\n"
     ]
    }
   ],
   "source": [
    "x=333.8\n",
    "print(int(x//10))"
   ]
  },
  {
   "cell_type": "code",
   "execution_count": 4,
   "id": "d1e091cb",
   "metadata": {},
   "outputs": [
    {
     "name": "stdout",
     "output_type": "stream",
     "text": [
      "enter the number of rows:4\n",
      "1 \n",
      "1 2 \n",
      "1 2 3 \n",
      "1 2 3 4 \n"
     ]
    }
   ],
   "source": [
    "n=int(input(\"enter the number of rows:\"))\n",
    "for i in range(1,n+1):\n",
    "    for j in range(1,i+1):\n",
    "        print(j,end=\" \")#adds spaces\n",
    "    print()#next line printing"
   ]
  },
  {
   "cell_type": "code",
   "execution_count": 6,
   "id": "7ea5451e",
   "metadata": {},
   "outputs": [
    {
     "name": "stdout",
     "output_type": "stream",
     "text": [
      "225\n",
      "228.00\n"
     ]
    }
   ],
   "source": [
    "n=int(input())#225#228.00\n",
    "bill=0\n",
    "if n<=50:\n",
    "    bill=n*0.5\n",
    "elif n>50 and n<=150:\n",
    "    x=n-50\n",
    "    bill=50*0.50+x*0.75\n",
    "elif n>150 and n<=250:\n",
    "    x=n-150\n",
    "    bill=50*0.5+100*0.75+x*1.20\n",
    "else:\n",
    "    x=n-250\n",
    "    bill=50*0.5+100*0.75+100*1.2+x*1.50\n",
    "bill=bill+(20/100)*bill\n",
    "bill=format(bill,\".2f\")\n",
    "print(bill)"
   ]
  },
  {
   "cell_type": "code",
   "execution_count": 7,
   "id": "f175358a",
   "metadata": {},
   "outputs": [
    {
     "name": "stdout",
     "output_type": "stream",
     "text": [
      "['dog', 'cat', 'cat', 'dog']\n"
     ]
    }
   ],
   "source": [
    "s = \"dog cat cat dog\"\n",
    "print(s.split(\" \"))"
   ]
  },
  {
   "cell_type": "code",
   "execution_count": 5,
   "id": "096c1997",
   "metadata": {},
   "outputs": [
    {
     "name": "stdout",
     "output_type": "stream",
     "text": [
      "['abc']\n"
     ]
    }
   ],
   "source": [
    "s=\"abc\"\n",
    "print(s.split())"
   ]
  },
  {
   "cell_type": "code",
   "execution_count": 8,
   "id": "c061529e",
   "metadata": {},
   "outputs": [
    {
     "name": "stdout",
     "output_type": "stream",
     "text": [
      "['h', 'e', 'l', 'l', 'o']\n"
     ]
    }
   ],
   "source": [
    "pattern=\"hello\"\n",
    "print(list(pattern))"
   ]
  },
  {
   "cell_type": "code",
   "execution_count": 5,
   "id": "e36db742",
   "metadata": {},
   "outputs": [
    {
     "name": "stdout",
     "output_type": "stream",
     "text": [
      "<map object at 0x000002E9D0D75A80>\n"
     ]
    }
   ],
   "source": [
    "l1=[1,2,3]\n",
    "l2=[1,2,3]\n",
    "k=(map(l1,l2))\n",
    "print(k)"
   ]
  },
  {
   "cell_type": "code",
   "execution_count": 6,
   "id": "1f81b6b3",
   "metadata": {},
   "outputs": [
    {
     "name": "stdout",
     "output_type": "stream",
     "text": [
      "From l1: 1\n",
      "From l2: 1\n",
      "From l1: 2\n",
      "From l2: 2\n",
      "From l1: 3\n",
      "From l2: 3\n"
     ]
    }
   ],
   "source": [
    "l1 = [1, 2, 3]\n",
    "l2 = [1, 2, 3]\n",
    "\n",
    "mapped_result = zip(l1, l2)\n",
    "\n",
    "for element_from_l1, element_from_l2 in mapped_result:\n",
    "    print(\"From l1:\", element_from_l1)\n",
    "    print(\"From l2:\", element_from_l2)\n"
   ]
  },
  {
   "cell_type": "code",
   "execution_count": 4,
   "id": "209c97d8",
   "metadata": {},
   "outputs": [
    {
     "name": "stdout",
     "output_type": "stream",
     "text": [
      "[[1, 2, 3]]\n"
     ]
    }
   ],
   "source": [
    "l=[]\n",
    "z=[1,2,3]\n",
    "l.append(z)\n",
    "print(l)"
   ]
  },
  {
   "cell_type": "code",
   "execution_count": 4,
   "id": "2ef1f24d",
   "metadata": {},
   "outputs": [
    {
     "name": "stdout",
     "output_type": "stream",
     "text": [
      "10\n"
     ]
    }
   ],
   "source": [
    "class MyClass:\n",
    "    def __init__(self, x):\n",
    "        self.x = x\n",
    "\n",
    "    def my_method(self):\n",
    "        print(self.x)\n",
    "\n",
    "obj = MyClass(10)\n",
    "obj.my_method()\n"
   ]
  },
  {
   "cell_type": "code",
   "execution_count": null,
   "id": "e11b2321",
   "metadata": {},
   "outputs": [],
   "source": []
  },
  {
   "cell_type": "code",
   "execution_count": 6,
   "id": "dc8a9b77",
   "metadata": {},
   "outputs": [
    {
     "name": "stdout",
     "output_type": "stream",
     "text": [
      "5\n",
      "10\n"
     ]
    }
   ],
   "source": [
    "class MyClass:\n",
    "    def __init__(self, x):\n",
    "        self.x = x\n",
    "\n",
    "    @classmethod\n",
    "    def class_method(cls, x):\n",
    "        return cls(x * 2)\n",
    "\n",
    "    def instance_method(self):\n",
    "        print(self.x)\n",
    "\n",
    "obj1 = MyClass(5)\n",
    "obj2 = MyClass.class_method(5)\n",
    "obj1.instance_method()\n",
    "obj2.instance_method()\n"
   ]
  },
  {
   "cell_type": "code",
   "execution_count": 8,
   "id": "4a2eecef",
   "metadata": {},
   "outputs": [
    {
     "name": "stdout",
     "output_type": "stream",
     "text": [
      "<generator object reverse_string at 0x000001C39720BAE0>\n",
      "nohtyp\n"
     ]
    }
   ],
   "source": [
    "def reverse_string(s):\n",
    "    for i in range(len(s)-1,-1,-1):\n",
    "        yield s[i]\n",
    "s=\"python\"\n",
    "print(reverse_string(s))\n",
    "print(\"\".join(reverse_string(s)))"
   ]
  },
  {
   "cell_type": "code",
   "execution_count": 9,
   "id": "4a9e83b2",
   "metadata": {},
   "outputs": [
    {
     "data": {
      "text/plain": [
       "24"
      ]
     },
     "execution_count": 9,
     "metadata": {},
     "output_type": "execute_result"
    }
   ],
   "source": [
    "class rectangle:\n",
    "    def __init__(self,width,height):\n",
    "        self.__width=width\n",
    "        self.__height=height\n",
    "    def area(self):\n",
    "        return self.__width*self.__height\n",
    "cls=rectangle(4,6)\n",
    "cls.area()"
   ]
  },
  {
   "cell_type": "code",
   "execution_count": 10,
   "id": "d7724e25",
   "metadata": {},
   "outputs": [
    {
     "name": "stdout",
     "output_type": "stream",
     "text": [
      "[5, 8, 10, 9, 12, 15]\n"
     ]
    }
   ],
   "source": [
    "l1=[1,2,3]\n",
    "l2=[3,4,5]\n",
    "result=[]\n",
    "for x in l1:\n",
    "    for y in l2:\n",
    "        if x+y>5:\n",
    "            k=x*y\n",
    "            result.append(k)\n",
    "print(result)\n",
    "            "
   ]
  },
  {
   "cell_type": "code",
   "execution_count": 13,
   "id": "6f670522",
   "metadata": {},
   "outputs": [
    {
     "name": "stdout",
     "output_type": "stream",
     "text": [
      "[1, 2, 3, 4]\n",
      "2\n"
     ]
    }
   ],
   "source": [
    "l=[3,2,4,1]\n",
    "for i in range(len(l)-1):\n",
    "    for j in range(i+1,len(l)):\n",
    "        if l[i]>l[j]:\n",
    "            l[i],l[j]=l[j],l[i]\n",
    "print(l)\n",
    "print(l[1])  "
   ]
  },
  {
   "cell_type": "code",
   "execution_count": 15,
   "id": "8802970c",
   "metadata": {},
   "outputs": [
    {
     "name": "stdout",
     "output_type": "stream",
     "text": [
      "-3\n"
     ]
    }
   ],
   "source": [
    "l=[1,2,3,4,5]\n",
    "tot=0\n",
    "for i in range(len(l)):\n",
    "    if i%2==0:\n",
    "        l[i]=-l[i]\n",
    "    tot=tot+l[i]\n",
    "print(tot)\n",
    "    \n",
    "        "
   ]
  },
  {
   "cell_type": "code",
   "execution_count": 25,
   "id": "4532790a",
   "metadata": {},
   "outputs": [
    {
     "name": "stdout",
     "output_type": "stream",
     "text": [
      "30\n"
     ]
    }
   ],
   "source": [
    "l=[1,2,3,4,5,6,7,8,9,10]\n",
    "k=2\n",
    "summ=0\n",
    "for num in l:\n",
    "    if num%2==0 and  num%k==0:\n",
    "        summ=summ+num\n",
    "        \n",
    "            \n",
    "print(summ)         "
   ]
  },
  {
   "cell_type": "code",
   "execution_count": 27,
   "id": "03921cc0",
   "metadata": {},
   "outputs": [
    {
     "name": "stdout",
     "output_type": "stream",
     "text": [
      "2\n"
     ]
    }
   ],
   "source": [
    "s=\"abbaadcs\"\n",
    "stack=[]\n",
    "i=0\n",
    "count=0\n",
    "for i in range(len(s)-1):\n",
    "    if s[i] ==s[i+1]:\n",
    "        count=count+1\n",
    "        continue\n",
    "    else:\n",
    "        stack.append(s[i])\n",
    "print(count)\n",
    "        "
   ]
  },
  {
   "cell_type": "code",
   "execution_count": 28,
   "id": "6e2d98a9",
   "metadata": {
    "scrolled": true
   },
   "outputs": [
    {
     "name": "stdout",
     "output_type": "stream",
     "text": [
      "[0, 0, 0, 0, 0, 0, 0]\n"
     ]
    }
   ],
   "source": [
    "s=\"abcdabc\"\n",
    "n=len(s)\n",
    "prefix=[0]*n\n",
    "print(prefix)\n",
    "max_len=0"
   ]
  },
  {
   "cell_type": "code",
   "execution_count": 44,
   "id": "2ee5f32a",
   "metadata": {},
   "outputs": [
    {
     "name": "stdout",
     "output_type": "stream",
     "text": [
      "[0, 0, 0, 0, 0, 0, 1, 2, 3, 4, 5, 6]\n"
     ]
    }
   ],
   "source": [
    "def calc_prefix_function(s):\n",
    "    result = [0] * len(s)    \n",
    "    k = 0 \n",
    "    for i in range(1, len(s)):\n",
    "#         while k > 0 and s[i] != s[k]:\n",
    "#             k = result[k - 1]\n",
    "        if s[k] == s[i]:\n",
    "            k += 1\n",
    "        result[i] = k  \n",
    "    return result\n",
    "s=\"abcdefabcdef\"\n",
    "print(calc_prefix_function(s))"
   ]
  },
  {
   "cell_type": "code",
   "execution_count": 46,
   "id": "a1048479",
   "metadata": {},
   "outputs": [
    {
     "name": "stdout",
     "output_type": "stream",
     "text": [
      "10\n"
     ]
    }
   ],
   "source": [
    "class parent:\n",
    "    def __init__(self,x):\n",
    "        self.x=x\n",
    "class child(parent):\n",
    "    def __init__(self,x,y):\n",
    "        super().__init__(x)\n",
    "        self.y=y\n",
    "obj=child(10,20)\n",
    "print(obj.x)"
   ]
  },
  {
   "cell_type": "code",
   "execution_count": 47,
   "id": "a05550ce",
   "metadata": {},
   "outputs": [
    {
     "name": "stdout",
     "output_type": "stream",
     "text": [
      "50\n",
      "42\n",
      "42\n"
     ]
    }
   ],
   "source": [
    "class my:\n",
    "    att=42\n",
    "o1=my()\n",
    "o2=my()\n",
    "o1.att=50\n",
    "print(o1.att)\n",
    "print(o2.att)\n",
    "print(my.att)\n",
    "\n"
   ]
  },
  {
   "cell_type": "code",
   "execution_count": 49,
   "id": "7d335ca2",
   "metadata": {},
   "outputs": [
    {
     "name": "stdout",
     "output_type": "stream",
     "text": [
      "30\n"
     ]
    }
   ],
   "source": [
    "def outer_function(x):\n",
    "    def inner_function(y):\n",
    "        return x+y\n",
    "    return inner_function\n",
    "result=outer_function(10)(20)\n",
    "print(result)"
   ]
  },
  {
   "cell_type": "code",
   "execution_count": 50,
   "id": "feb6ddc0",
   "metadata": {},
   "outputs": [
    {
     "name": "stdout",
     "output_type": "stream",
     "text": [
      "2 4 6 8\n"
     ]
    }
   ],
   "source": [
    "l=[1,2,3,4]\n",
    "a,b,c,d=map(lambda x:x*2,l)\n",
    "print(a,b,c,d)"
   ]
  },
  {
   "cell_type": "code",
   "execution_count": 55,
   "id": "afe9bc85",
   "metadata": {},
   "outputs": [
    {
     "name": "stdout",
     "output_type": "stream",
     "text": [
      "{'name': 'abc', 'age': '20', 'address': 'none'}\n",
      "[('address', 'none'), ('age', '20'), ('name', 'abc')]\n"
     ]
    }
   ],
   "source": [
    "d={}\n",
    "d[\"name\"]=\"abc\"\n",
    "d[\"age\"]=\"20\"\n",
    "d[\"address\"]=\"none\"\n",
    "print(d)\n",
    "print(sorted(d.items()))"
   ]
  },
  {
   "cell_type": "code",
   "execution_count": 56,
   "id": "6ca36013",
   "metadata": {},
   "outputs": [
    {
     "name": "stdout",
     "output_type": "stream",
     "text": [
      "3\n"
     ]
    }
   ],
   "source": [
    "l1=[1,2,3]\n",
    "l2=l1\n",
    "del l1\n",
    "print(l2[2])"
   ]
  },
  {
   "cell_type": "code",
   "execution_count": 57,
   "id": "7dbc3e48",
   "metadata": {},
   "outputs": [
    {
     "name": "stdout",
     "output_type": "stream",
     "text": [
      "{2, 3}\n",
      "{2, 3}\n"
     ]
    },
    {
     "data": {
      "text/plain": [
       "True"
      ]
     },
     "execution_count": 57,
     "metadata": {},
     "output_type": "execute_result"
    }
   ],
   "source": [
    "a=set([1,2,3])\n",
    "b=set([2,3,4])\n",
    "c=a.intersection(b)\n",
    "print(c)\n",
    "print(a.intersection(b))\n",
    "c.issubset(a)"
   ]
  },
  {
   "cell_type": "code",
   "execution_count": 59,
   "id": "45b03bf9",
   "metadata": {},
   "outputs": [
    {
     "data": {
      "text/plain": [
       "frozenset({1, 2, 3, 4})"
      ]
     },
     "execution_count": 59,
     "metadata": {},
     "output_type": "execute_result"
    }
   ],
   "source": [
    "a=frozenset([1,2,3])\n",
    "b=frozenset([2,3,4])\n",
    "a.union(b)\n"
   ]
  },
  {
   "cell_type": "code",
   "execution_count": 68,
   "id": "01e3e2d1",
   "metadata": {},
   "outputs": [
    {
     "name": "stdout",
     "output_type": "stream",
     "text": [
      "[100, 2, 3, 4]\n",
      "[100, 2, 3, 4]\n"
     ]
    }
   ],
   "source": [
    "\n",
    "original_list = [1, 2, 3, 4]\n",
    "shallow_copy = original_list\n",
    "\n",
    "# Modify the shallow copy\n",
    "shallow_copy[0] = 100\n",
    "\n",
    "# Changes affect the original list\n",
    "print(original_list)  # Output: [1, [200, 3], 4]\n",
    "print(shallow_copy)\n"
   ]
  },
  {
   "cell_type": "code",
   "execution_count": 69,
   "id": "95ac807c",
   "metadata": {},
   "outputs": [
    {
     "name": "stdout",
     "output_type": "stream",
     "text": [
      "[1, 2, 3, 4]\n",
      "[100, 2, 3, 4]\n"
     ]
    }
   ],
   "source": [
    "\n",
    "original_list = [1, 2, 3, 4]\n",
    "deep_copy = original_list.copy()\n",
    "\n",
    "# Modify the deep copy\n",
    "deep_copy[0] = 100\n",
    "\n",
    "# Changes do not affect the original list\n",
    "print(original_list)  # Output: [1, [2, 3], 4]\n",
    "print(deep_copy)\n"
   ]
  },
  {
   "cell_type": "code",
   "execution_count": 1,
   "id": "3a85748c",
   "metadata": {},
   "outputs": [
    {
     "name": "stdout",
     "output_type": "stream",
     "text": [
      "apr jun\n"
     ]
    }
   ],
   "source": [
    "def creating_gen(index):  \n",
    "    months = ['jan','feb','mar','apr','may','jun','jul','aug','sep','oct','nov','dec']  \n",
    "    yield months[index]  \n",
    "    yield months[index+2]  \n",
    "next_month = creating_gen(3)  \n",
    "print(next(next_month), next(next_month))  "
   ]
  },
  {
   "cell_type": "code",
   "execution_count": null,
   "id": "1bfbf09c",
   "metadata": {},
   "outputs": [],
   "source": [
    "#python -m pdb Python-script.py"
   ]
  },
  {
   "cell_type": "code",
   "execution_count": 3,
   "id": "dad25bd2",
   "metadata": {},
   "outputs": [
    {
     "name": "stdout",
     "output_type": "stream",
     "text": [
      "[]\n",
      "[[4.67296746e-307 1.69121096e-306 1.69118787e-306]\n",
      " [1.89146896e-307 7.56571288e-307 3.11525958e-307]\n",
      " [1.24610723e-306 1.29061142e-306 2.56761491e-312]]\n"
     ]
    }
   ],
   "source": [
    "import numpy as np\n",
    "a1=np.array([])\n",
    "a2=np.empty(shape=(3,3))\n",
    "print(a1)\n",
    "print(a2)"
   ]
  },
  {
   "cell_type": "code",
   "execution_count": null,
   "id": "8b6a1ca7",
   "metadata": {},
   "outputs": [],
   "source": [
    "#python contains unique  feature called as negative indexing negative indexing means start from the last"
   ]
  },
  {
   "cell_type": "code",
   "execution_count": 4,
   "id": "a2940bbc",
   "metadata": {},
   "outputs": [
    {
     "data": {
      "text/plain": [
       "5151"
      ]
     },
     "execution_count": 4,
     "metadata": {},
     "output_type": "execute_result"
    }
   ],
   "source": [
    "sum(range(1,102))"
   ]
  },
  {
   "cell_type": "code",
   "execution_count": 5,
   "id": "0e3ef20f",
   "metadata": {},
   "outputs": [
    {
     "name": "stdout",
     "output_type": "stream",
     "text": [
      "10\n"
     ]
    }
   ],
   "source": [
    "global_var=0\n",
    "def modify_global():\n",
    "    global global_var\n",
    "    global_var=10\n",
    "    print(global_var)\n",
    "modify_global()  \n",
    "  "
   ]
  },
  {
   "cell_type": "code",
   "execution_count": 6,
   "id": "d4c25eff",
   "metadata": {},
   "outputs": [
    {
     "name": "stdout",
     "output_type": "stream",
     "text": [
      "Enter number: 123\n",
      "321\n"
     ]
    }
   ],
   "source": [
    "n = int(input(\"Enter number: \"))  \n",
    "rev=0\n",
    "while n>0:\n",
    "    digit=n%10\n",
    "    rev=rev*10+digit\n",
    "    n=n//10\n",
    "print(rev)"
   ]
  },
  {
   "cell_type": "code",
   "execution_count": null,
   "id": "9b7d71a1",
   "metadata": {},
   "outputs": [],
   "source": []
  },
  {
   "cell_type": "code",
   "execution_count": null,
   "id": "a3c0919e",
   "metadata": {},
   "outputs": [],
   "source": []
  },
  {
   "cell_type": "code",
   "execution_count": null,
   "id": "6c672863",
   "metadata": {},
   "outputs": [],
   "source": []
  },
  {
   "cell_type": "code",
   "execution_count": null,
   "id": "f3645920",
   "metadata": {},
   "outputs": [],
   "source": []
  },
  {
   "cell_type": "code",
   "execution_count": null,
   "id": "181ff633",
   "metadata": {},
   "outputs": [],
   "source": []
  },
  {
   "cell_type": "code",
   "execution_count": null,
   "id": "5599c564",
   "metadata": {},
   "outputs": [],
   "source": []
  },
  {
   "cell_type": "code",
   "execution_count": null,
   "id": "bf3ced8d",
   "metadata": {},
   "outputs": [],
   "source": []
  }
 ],
 "metadata": {
  "kernelspec": {
   "display_name": "Python 3 (ipykernel)",
   "language": "python",
   "name": "python3"
  },
  "language_info": {
   "codemirror_mode": {
    "name": "ipython",
    "version": 3
   },
   "file_extension": ".py",
   "mimetype": "text/x-python",
   "name": "python",
   "nbconvert_exporter": "python",
   "pygments_lexer": "ipython3",
   "version": "3.11.3"
  }
 },
 "nbformat": 4,
 "nbformat_minor": 5
}
